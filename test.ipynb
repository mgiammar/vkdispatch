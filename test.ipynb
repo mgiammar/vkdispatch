{
 "cells": [
  {
   "cell_type": "markdown",
   "metadata": {},
   "source": []
  },
  {
   "cell_type": "code",
   "execution_count": 1,
   "metadata": {},
   "outputs": [
    {
     "name": "stdout",
     "output_type": "stream",
     "text": [
      "[INFO]  Initializing glslang...\n",
      "[INFO]  Initializing Vulkan Instance...\n",
      "[INFO]  Creating VKLInstance\n",
      "[INFO]  Create Info is valid\n",
      "[INFO]  Calling _create\n"
     ]
    }
   ],
   "source": [
    "import vkdispatch\n",
    "import numpy as np"
   ]
  },
  {
   "cell_type": "code",
   "execution_count": 2,
   "metadata": {},
   "outputs": [
    {
     "name": "stdout",
     "output_type": "stream",
     "text": [
      "[INFO]  Creating VKLDevice\n",
      "[INFO]  Create Info is valid\n",
      "[INFO]  Calling _create\n",
      "[INFO]  Creating VKLDevice\n",
      "[INFO]  Create Info is valid\n",
      "[INFO]  Calling _create\n",
      "[INFO]  Creating VKLDevice\n",
      "[INFO]  Create Info is valid\n",
      "[INFO]  Calling _create\n",
      "[INFO]  Creating VKLDevice\n",
      "[INFO]  Create Info is valid\n",
      "[INFO]  Calling _create\n"
     ]
    }
   ],
   "source": [
    "ctx = vkdispatch.DeviceContext([0, 1, 2, 3], [1, 1, 1, 1])"
   ]
  },
  {
   "cell_type": "code",
   "execution_count": 3,
   "metadata": {},
   "outputs": [
    {
     "name": "stdout",
     "output_type": "stream",
     "text": [
      "[INFO]  Creating VKLBuffer\n",
      "[INFO]  Create Info is valid\n",
      "[INFO]  Calling _create\n",
      "[INFO]  Creating VKLBuffer\n",
      "[INFO]  Create Info is valid\n",
      "[INFO]  Calling _create\n",
      "[INFO]  Creating VKLBuffer\n",
      "[INFO]  Create Info is valid\n",
      "[INFO]  Calling _create\n",
      "[INFO]  Creating VKLBuffer\n",
      "[INFO]  Create Info is valid\n",
      "[INFO]  Calling _create\n",
      "[INFO]  Creating VKLBuffer\n",
      "[INFO]  Create Info is valid\n",
      "[INFO]  Calling _create\n",
      "[INFO]  Creating VKLBuffer\n",
      "[INFO]  Create Info is valid\n",
      "[INFO]  Calling _create\n",
      "[INFO]  Creating VKLBuffer\n",
      "[INFO]  Create Info is valid\n",
      "[INFO]  Calling _create\n",
      "[INFO]  Creating VKLBuffer\n",
      "[INFO]  Create Info is valid\n",
      "[INFO]  Calling _create\n",
      "[INFO]  Creating VKLBuffer\n",
      "[INFO]  Create Info is valid\n",
      "[INFO]  Calling _create\n",
      "[INFO]  Creating VKLBuffer\n",
      "[INFO]  Create Info is valid\n",
      "[INFO]  Calling _create\n",
      "[INFO]  Creating VKLBuffer\n",
      "[INFO]  Create Info is valid\n",
      "[INFO]  Calling _create\n",
      "[INFO]  Creating VKLBuffer\n",
      "[INFO]  Create Info is valid\n",
      "[INFO]  Calling _create\n",
      "[INFO]  Creating VKLBuffer\n",
      "[INFO]  Create Info is valid\n",
      "[INFO]  Calling _create\n",
      "[INFO]  Creating VKLBuffer\n",
      "[INFO]  Create Info is valid\n",
      "[INFO]  Calling _create\n",
      "[INFO]  Creating VKLBuffer\n",
      "[INFO]  Create Info is valid\n",
      "[INFO]  Calling _create\n",
      "[INFO]  Creating VKLBuffer\n",
      "[INFO]  Create Info is valid\n",
      "[INFO]  Calling _create\n"
     ]
    }
   ],
   "source": [
    "buf = vkdispatch.Buffer(ctx, (512, 512, 512), np.float32)\n",
    "buf2 = vkdispatch.Buffer(ctx, (512, 512, 512), np.float32)"
   ]
  },
  {
   "cell_type": "code",
   "execution_count": 30,
   "metadata": {},
   "outputs": [],
   "source": [
    "arr = np.random.rand(512, 512, 512).astype(np.float32)\n",
    "arr2 = np.random.rand(512, 512, 512).astype(np.float32)\n",
    "arr3 = np.random.rand(512, 512, 512).astype(np.float32)\n",
    "arr4 = np.random.rand(512, 512, 512).astype(np.float32)\n",
    "\n",
    "arrs = [arr, arr2, arr3, arr4]"
   ]
  },
  {
   "cell_type": "code",
   "execution_count": 31,
   "metadata": {},
   "outputs": [],
   "source": [
    "buf.write(arr, 0)\n",
    "buf.write(arr2, 1)\n",
    "buf.write(arr3, 2)\n",
    "buf.write(arr4, 3)"
   ]
  },
  {
   "cell_type": "code",
   "execution_count": 32,
   "metadata": {},
   "outputs": [
    {
     "name": "stdout",
     "output_type": "stream",
     "text": [
      "0 - 0: 0.0\n",
      "0 - 1: 0.33331772685050964\n",
      "0 - 2: 0.33334121108055115\n",
      "0 - 3: 0.3333089053630829\n",
      "1 - 0: 0.33331772685050964\n",
      "1 - 1: 0.0\n",
      "1 - 2: 0.3333434760570526\n",
      "1 - 3: 0.3333413004875183\n",
      "2 - 0: 0.33334121108055115\n",
      "2 - 1: 0.3333434760570526\n",
      "2 - 2: 0.0\n",
      "2 - 3: 0.3333357274532318\n",
      "3 - 0: 0.3333089053630829\n",
      "3 - 1: 0.3333413004875183\n",
      "3 - 2: 0.3333357274532318\n",
      "3 - 3: 0.0\n"
     ]
    }
   ],
   "source": [
    "comp_func = lambda ind1, ind2: print(f\"{ind1} - {ind2}: {np.mean(np.abs(arrs[ind1] - buf.read(ind2)))}\")\n",
    "\n",
    "for i in range(4):\n",
    "    for j in range(4):\n",
    "        comp_func(i, j)\n",
    "\n"
   ]
  },
  {
   "cell_type": "code",
   "execution_count": 33,
   "metadata": {},
   "outputs": [
    {
     "name": "stdout",
     "output_type": "stream",
     "text": [
      "0 - 0: 0.3333212435245514\n",
      "0 - 1: 0.3333373963832855\n",
      "0 - 2: 0.33336737751960754\n",
      "0 - 3: 0.33333760499954224\n",
      "1 - 0: 0.3333200514316559\n",
      "1 - 1: 0.333340585231781\n",
      "1 - 2: 0.3333647549152374\n",
      "1 - 3: 0.3333514332771301\n",
      "2 - 0: 0.3333282768726349\n",
      "2 - 1: 0.3333328366279602\n",
      "2 - 2: 0.33330875635147095\n",
      "2 - 3: 0.33336371183395386\n",
      "3 - 0: 0.33334779739379883\n",
      "3 - 1: 0.33332744240760803\n",
      "3 - 2: 0.3333333730697632\n",
      "3 - 3: 0.33335480093955994\n"
     ]
    }
   ],
   "source": [
    "comp_func = lambda ind1, ind2: print(f\"{ind1} - {ind2}: {np.mean(np.abs(arrs[ind1] - buf2.read(ind2)))}\")\n",
    "\n",
    "for i in range(4):\n",
    "    for j in range(4):\n",
    "        comp_func(i, j)"
   ]
  },
  {
   "cell_type": "code",
   "execution_count": 34,
   "metadata": {},
   "outputs": [],
   "source": [
    "buf.copy_to(buf2, 2)"
   ]
  },
  {
   "cell_type": "code",
   "execution_count": 35,
   "metadata": {},
   "outputs": [
    {
     "name": "stdout",
     "output_type": "stream",
     "text": [
      "0 - 0: 0.3333212435245514\n",
      "0 - 1: 0.3333373963832855\n",
      "0 - 2: 0.33334121108055115\n",
      "0 - 3: 0.33333760499954224\n",
      "1 - 0: 0.3333200514316559\n",
      "1 - 1: 0.333340585231781\n",
      "1 - 2: 0.3333434760570526\n",
      "1 - 3: 0.3333514332771301\n",
      "2 - 0: 0.3333282768726349\n",
      "2 - 1: 0.3333328366279602\n",
      "2 - 2: 0.0\n",
      "2 - 3: 0.33336371183395386\n",
      "3 - 0: 0.33334779739379883\n",
      "3 - 1: 0.33332744240760803\n",
      "3 - 2: 0.3333357274532318\n",
      "3 - 3: 0.33335480093955994\n"
     ]
    }
   ],
   "source": [
    "comp_func = lambda ind1, ind2: print(f\"{ind1} - {ind2}: {np.mean(np.abs(arrs[ind1] - buf2.read(ind2)))}\")\n",
    "\n",
    "for i in range(4):\n",
    "    for j in range(4):\n",
    "        comp_func(i, j)"
   ]
  },
  {
   "cell_type": "code",
   "execution_count": null,
   "metadata": {},
   "outputs": [],
   "source": []
  }
 ],
 "metadata": {
  "kernelspec": {
   "display_name": "base",
   "language": "python",
   "name": "python3"
  },
  "language_info": {
   "codemirror_mode": {
    "name": "ipython",
    "version": 3
   },
   "file_extension": ".py",
   "mimetype": "text/x-python",
   "name": "python",
   "nbconvert_exporter": "python",
   "pygments_lexer": "ipython3",
   "version": "3.11.4"
  }
 },
 "nbformat": 4,
 "nbformat_minor": 2
}
