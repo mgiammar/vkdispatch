{
 "cells": [
  {
   "cell_type": "markdown",
   "metadata": {},
   "source": []
  },
  {
   "cell_type": "code",
   "execution_count": 1,
   "metadata": {},
   "outputs": [
    {
     "name": "stdout",
     "output_type": "stream",
     "text": [
      "[INFO]  Initializing glslang...\n",
      "[INFO]  Initializing Vulkan Instance...\n",
      "[INFO]  Creating VKLInstance\n",
      "[INFO]  Create Info is valid\n",
      "[INFO]  Calling _create\n"
     ]
    }
   ],
   "source": [
    "import vkdispatch\n",
    "import numpy as np"
   ]
  },
  {
   "cell_type": "code",
   "execution_count": 2,
   "metadata": {},
   "outputs": [],
   "source": [
    "device_num = len(vkdispatch.get_devices())"
   ]
  },
  {
   "cell_type": "code",
   "execution_count": 3,
   "metadata": {},
   "outputs": [
    {
     "name": "stdout",
     "output_type": "stream",
     "text": [
      "[INFO]  Creating VKLDevice\n",
      "[INFO]  Create Info is valid\n",
      "[INFO]  Calling _create\n"
     ]
    }
   ],
   "source": [
    "ctx = vkdispatch.DeviceContext([i for i in range(device_num)], [1 for i in range(device_num)])"
   ]
  },
  {
   "cell_type": "code",
   "execution_count": 4,
   "metadata": {},
   "outputs": [
    {
     "name": "stdout",
     "output_type": "stream",
     "text": [
      "[INFO]  Creating VKLBuffer\n",
      "[INFO]  Create Info is valid\n",
      "[INFO]  Calling _create\n",
      "[INFO]  Creating VKLBuffer\n",
      "[INFO]  Create Info is valid\n",
      "[INFO]  Calling _create\n",
      "[INFO]  Creating VKLBuffer\n",
      "[INFO]  Create Info is valid\n",
      "[INFO]  Calling _create\n",
      "[INFO]  Creating VKLBuffer\n",
      "[INFO]  Create Info is valid\n",
      "[INFO]  Calling _create\n"
     ]
    }
   ],
   "source": [
    "buf = vkdispatch.Buffer(ctx, (512, 512, 512), np.float32)\n",
    "buf2 = vkdispatch.Buffer(ctx, (512, 512, 512), np.float32)"
   ]
  },
  {
   "cell_type": "code",
   "execution_count": 5,
   "metadata": {},
   "outputs": [],
   "source": [
    "arrs = [np.random.rand(512, 512, 512).astype(np.float32) for _ in range(device_num)]\n",
    "\n",
    "print(arrs)"
   ]
  },
  {
   "cell_type": "code",
   "execution_count": null,
   "metadata": {},
   "outputs": [
    {
     "ename": "",
     "evalue": "",
     "output_type": "error",
     "traceback": [
      "\u001b[1;31mThe Kernel crashed while executing code in the current cell or a previous cell. \n",
      "\u001b[1;31mPlease review the code in the cell(s) to identify a possible cause of the failure. \n",
      "\u001b[1;31mClick <a href='https://aka.ms/vscodeJupyterKernelCrash'>here</a> for more info. \n",
      "\u001b[1;31mView Jupyter <a href='command:jupyter.viewOutput'>log</a> for further details."
     ]
    }
   ],
   "source": [
    "for i in range(device_num):\n",
    "    buf.write(arrs[i], i)"
   ]
  },
  {
   "cell_type": "code",
   "execution_count": null,
   "metadata": {},
   "outputs": [
    {
     "name": "stdout",
     "output_type": "stream",
     "text": [
      "0 - 0: 0.0\n"
     ]
    }
   ],
   "source": [
    "comp_func = lambda ind1, ind2: print(f\"{ind1} - {ind2}: {np.mean(np.abs(arrs[ind1] - buf.read(ind2)))}\")\n",
    "\n",
    "for i in range(device_num):\n",
    "    for j in range(device_num):\n",
    "        comp_func(i, j)"
   ]
  },
  {
   "cell_type": "code",
   "execution_count": null,
   "metadata": {},
   "outputs": [
    {
     "name": "stdout",
     "output_type": "stream",
     "text": [
      "0 - 0: 0.4999812841415405\n"
     ]
    }
   ],
   "source": [
    "comp_func = lambda ind1, ind2: print(f\"{ind1} - {ind2}: {np.mean(np.abs(arrs[ind1] - buf2.read(ind2)))}\")\n",
    "\n",
    "for i in range(device_num):\n",
    "    for j in range(device_num):\n",
    "        comp_func(i, j)"
   ]
  },
  {
   "cell_type": "code",
   "execution_count": null,
   "metadata": {},
   "outputs": [],
   "source": [
    "buf.copy_to(buf2, 0)"
   ]
  },
  {
   "cell_type": "code",
   "execution_count": null,
   "metadata": {},
   "outputs": [
    {
     "name": "stdout",
     "output_type": "stream",
     "text": [
      "0 - 0: 0.0\n"
     ]
    }
   ],
   "source": [
    "comp_func = lambda ind1, ind2: print(f\"{ind1} - {ind2}: {np.mean(np.abs(arrs[ind1] - buf2.read(ind2)))}\")\n",
    "\n",
    "for i in range(device_num):\n",
    "    for j in range(device_num):\n",
    "        comp_func(i, j)"
   ]
  },
  {
   "cell_type": "code",
   "execution_count": null,
   "metadata": {},
   "outputs": [],
   "source": []
  }
 ],
 "metadata": {
  "kernelspec": {
   "display_name": "base",
   "language": "python",
   "name": "python3"
  },
  "language_info": {
   "codemirror_mode": {
    "name": "ipython",
    "version": 3
   },
   "file_extension": ".py",
   "mimetype": "text/x-python",
   "name": "python",
   "nbconvert_exporter": "python",
   "pygments_lexer": "ipython3",
   "version": "3.11.4"
  }
 },
 "nbformat": 4,
 "nbformat_minor": 2
}
